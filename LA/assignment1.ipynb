{
 "cells": [
  {
   "cell_type": "code",
   "execution_count": 73,
   "metadata": {},
   "outputs": [],
   "source": [
    "import numpy as np"
   ]
  },
  {
   "cell_type": "markdown",
   "metadata": {},
   "source": [
    "## Question 1: Numpy"
   ]
  },
  {
   "cell_type": "markdown",
   "metadata": {},
   "source": [
    "#### (A) Use arange to create a variable named foo that stores an array of numbers from 0 to 29, inclusive. Print bar and its shape."
   ]
  },
  {
   "cell_type": "code",
   "execution_count": 74,
   "metadata": {},
   "outputs": [
    {
     "name": "stdout",
     "output_type": "stream",
     "text": [
      "Printing type(foo): <class 'numpy.ndarray'>\n",
      "Printing foo: [ 0  1  2  3  4  5  6  7  8  9 10 11 12 13 14 15 16 17 18 19 20 21 22 23\n",
      " 24 25 26 27 28 29]\n",
      "Printing foo shape using .shape: (30,)\n",
      "Printing type(shape): <class 'tuple'>\n"
     ]
    }
   ],
   "source": [
    "foo = np.arange(0,30,1,dtype=int) #foo declaration\n",
    "#(arange is half open, we need to put 30 as upper bound)\n",
    "print(\"Printing type(foo):\", type(foo)) #confirming its a numpy array\n",
    "print(\"Printing foo:\" , foo) #printing 1D array\n",
    "print(\"Printing foo shape using .shape:\", foo.shape) #confirming 1D\n",
    "print(\"Printing type(shape):\", type(foo.shape))"
   ]
  },
  {
   "cell_type": "markdown",
   "metadata": {},
   "source": [
    "\n",
    "#### (B) Use the reshape function to change foo to a validly-shaped two-dimensional matrix and store it in a new variable called bar. Print bar and its shape."
   ]
  },
  {
   "cell_type": "code",
   "execution_count": 75,
   "metadata": {},
   "outputs": [
    {
     "name": "stdout",
     "output_type": "stream",
     "text": [
      "Printing type(bar): <class 'numpy.ndarray'>\n",
      "Printing bar:\n",
      "[[ 0  1  2  3  4  5]\n",
      " [ 6  7  8  9 10 11]\n",
      " [12 13 14 15 16 17]\n",
      " [18 19 20 21 22 23]\n",
      " [24 25 26 27 28 29]]\n",
      "Printing bar shape using .shape: (5, 6)\n",
      "Printing type(shape): <class 'tuple'>\n"
     ]
    }
   ],
   "source": [
    "bar = foo.reshape((5,6)) #creating bar(5x6)(2D) from 1D foo\n",
    "print(\"Printing type(bar):\", type(bar))\n",
    "print(\"Printing bar:\") #confirming reshape worked\n",
    "print(bar) \n",
    "print(\"Printing bar shape using .shape:\", bar.shape) #confirming 5x6\n",
    "print(\"Printing type(shape):\", type(bar.shape))"
   ]
  },
  {
   "cell_type": "markdown",
   "metadata": {},
   "source": [
    "#### (C) Create a third variable, baz that reshapes it into a valid three-dimensional shape. Print baz and its shape."
   ]
  },
  {
   "cell_type": "code",
   "execution_count": 76,
   "metadata": {},
   "outputs": [
    {
     "name": "stdout",
     "output_type": "stream",
     "text": [
      "Printing type(baz): <class 'numpy.ndarray'>\n",
      "Printing baz:\n",
      "[[[ 0  1]\n",
      "  [ 2  3]\n",
      "  [ 4  5]]\n",
      "\n",
      " [[ 6  7]\n",
      "  [ 8  9]\n",
      "  [10 11]]\n",
      "\n",
      " [[12 13]\n",
      "  [14 15]\n",
      "  [16 17]]\n",
      "\n",
      " [[18 19]\n",
      "  [20 21]\n",
      "  [22 23]]\n",
      "\n",
      " [[24 25]\n",
      "  [26 27]\n",
      "  [28 29]]]\n",
      "Printing baz shape using .shape: (5, 3, 2)\n",
      "Printing type(shape): <class 'tuple'>\n"
     ]
    }
   ],
   "source": [
    "baz = bar.reshape((5,3,2)) #creating bar(5x3x2)(3D) from 2D bar\n",
    "print(\"Printing type(baz):\", type(baz))\n",
    "print(\"Printing baz:\") #confirming reshape worked\n",
    "print(baz) \n",
    "print(\"Printing baz shape using .shape:\", baz.shape) #confirming 5x3x2\n",
    "print(\"Printing type(shape):\", type(baz.shape))"
   ]
  },
  {
   "cell_type": "markdown",
   "metadata": {},
   "source": [
    "#### (D) There are several different ways to index into NumPy arrays. Use two-dimensional array indexing to set the first value in the second row of bar to -1. Now look at foo and baz. Did they change? Explain what’s going on. (Hint: does reshape return a view or a copy?)\n"
   ]
  },
  {
   "cell_type": "code",
   "execution_count": 77,
   "metadata": {},
   "outputs": [
    {
     "name": "stdout",
     "output_type": "stream",
     "text": [
      "Printing bar:\n",
      "[[ 0  1  2  3  4  5]\n",
      " [ 6  7  8  9 10 11]\n",
      " [12 13 14 15 16 17]\n",
      " [18 19 20 21 22 23]\n",
      " [24 25 26 27 28 29]]\n",
      "Original value of col 1 row 2: 6\n",
      "Coordinates of col 1 row 2: 1,0\n",
      "Printing updated bar:\n",
      "[[ 0  1  2  3  4  5]\n",
      " [-1  7  8  9 10 11]\n",
      " [12 13 14 15 16 17]\n",
      " [18 19 20 21 22 23]\n",
      " [24 25 26 27 28 29]]\n",
      "Printing foo:\n",
      "[ 0  1  2  3  4  5 -1  7  8  9 10 11 12 13 14 15 16 17 18 19 20 21 22 23\n",
      " 24 25 26 27 28 29]\n",
      "Printing baz:\n",
      "[[[ 0  1]\n",
      "  [ 2  3]\n",
      "  [ 4  5]]\n",
      "\n",
      " [[-1  7]\n",
      "  [ 8  9]\n",
      "  [10 11]]\n",
      "\n",
      " [[12 13]\n",
      "  [14 15]\n",
      "  [16 17]]\n",
      "\n",
      " [[18 19]\n",
      "  [20 21]\n",
      "  [22 23]]\n",
      "\n",
      " [[24 25]\n",
      "  [26 27]\n",
      "  [28 29]]]\n",
      "\n",
      "\n",
      "\n",
      "In conclusion, updating [1,0] in bar was successful. Updating this value changed foo[6] and baz[1,0,0] automatically, which means that reshape returns a view.\n"
     ]
    }
   ],
   "source": [
    "print(\"Printing bar:\")\n",
    "print(bar) \n",
    "print(\"Original value of col 1 row 2:\",bar[1][0])\n",
    "print(\"Coordinates of col 1 row 2: 1,0\")\n",
    "bar[1][0] = -1 #update [1,0] with new value\n",
    "print(\"Printing updated bar:\") #confirming value got updated\n",
    "print(bar) \n",
    "print(\"Printing foo:\") #checking foo\n",
    "print(foo)\n",
    "print(\"Printing baz:\") #checking baz\n",
    "print(baz) \n",
    "print()\n",
    "print()\n",
    "print()\n",
    "print(\"In conclusion, updating [1,0] in bar was successful. Updating this value changed foo[6] and baz[1,0,0] automatically, which means that reshape returns a view.\")"
   ]
  },
  {
   "cell_type": "markdown",
   "metadata": {},
   "source": [
    "#### (E) Another thing that comes up a lot with array shapes is thinking about how to aggregate over specific dimensions. Figure out how the NumPy sum function works (and the axis argument in particular) and do the following:\n",
    "\n",
    "(i) Sum baz over its second dimension and print the result."
   ]
  },
  {
   "cell_type": "code",
   "execution_count": 78,
   "metadata": {},
   "outputs": [
    {
     "name": "stdout",
     "output_type": "stream",
     "text": [
      "[[ 6  9]\n",
      " [17 27]\n",
      " [42 45]\n",
      " [60 63]\n",
      " [78 81]]\n"
     ]
    }
   ],
   "source": [
    "print(np.sum(baz, axis=1)) #2nd dimension is axis 1, counting from 0"
   ]
  },
  {
   "cell_type": "markdown",
   "metadata": {},
   "source": [
    "(ii) Sum baz over its first dimension and print the result."
   ]
  },
  {
   "cell_type": "code",
   "execution_count": 79,
   "metadata": {},
   "outputs": [
    {
     "name": "stdout",
     "output_type": "stream",
     "text": [
      "[[53 65]\n",
      " [70 75]\n",
      " [80 85]]\n"
     ]
    }
   ],
   "source": [
    "print(np.sum(baz, axis=0)) #1st dimension is axis 0"
   ]
  },
  {
   "cell_type": "markdown",
   "metadata": {},
   "source": [
    "(iii) Sum baz over both its first and third dimensions and print the result.\n"
   ]
  },
  {
   "cell_type": "code",
   "execution_count": 80,
   "metadata": {},
   "outputs": [
    {
     "name": "stdout",
     "output_type": "stream",
     "text": [
      "[118 145 165]\n"
     ]
    }
   ],
   "source": [
    "print(np.sum(baz, axis=(0,2))) #passing a tuple to the axis parameter to sum both 1st and 3rd dimension"
   ]
  },
  {
   "cell_type": "markdown",
   "metadata": {},
   "source": [
    "\n",
    "#### (F) Along with shaping and indexing, we also do a lot of slicing, which is where you index with ranges to get subvectors and submatrices. Write code to do the following:\n",
    "\n",
    "(i) Slice out the second row of bar and print it."
   ]
  },
  {
   "cell_type": "code",
   "execution_count": null,
   "metadata": {},
   "outputs": [
    {
     "data": {
      "text/plain": [
       "array([[ 0,  1,  2,  3,  4,  5],\n",
       "       [-1,  7,  8,  9, 10, 11],\n",
       "       [12, 13, 14, 15, 16, 17],\n",
       "       [18, 19, 20, 21, 22, 23],\n",
       "       [24, 25, 26, 27, 28, 29]])"
      ]
     },
     "execution_count": 81,
     "metadata": {},
     "output_type": "execute_result"
    }
   ],
   "source": [
    "bar #preview original"
   ]
  },
  {
   "cell_type": "code",
   "execution_count": null,
   "metadata": {},
   "outputs": [
    {
     "data": {
      "text/plain": [
       "array([-1,  7,  8,  9, 10, 11])"
      ]
     },
     "execution_count": 88,
     "metadata": {},
     "output_type": "execute_result"
    }
   ],
   "source": [
    "bar[1] #2nd row"
   ]
  },
  {
   "cell_type": "markdown",
   "metadata": {},
   "source": [
    "(ii) Slice out the last two columns of bar using the -1 notation and print it."
   ]
  },
  {
   "cell_type": "code",
   "execution_count": 101,
   "metadata": {},
   "outputs": [
    {
     "name": "stdout",
     "output_type": "stream",
     "text": [
      "[[ 4  5]\n",
      " [10 11]\n",
      " [16 17]\n",
      " [22 23]\n",
      " [28 29]]\n"
     ]
    }
   ],
   "source": [
    "print(bar[:, -2:]) #negative iterates through from the end"
   ]
  },
  {
   "cell_type": "markdown",
   "metadata": {},
   "source": [
    "(iii) Reshape bar into the right 2×3 submatrix format and print it."
   ]
  },
  {
   "cell_type": "code",
   "execution_count": 106,
   "metadata": {},
   "outputs": [
    {
     "name": "stdout",
     "output_type": "stream",
     "text": [
      "[[18 19 20]\n",
      " [24 25 26]]\n"
     ]
    }
   ],
   "source": [
    "print(bar[3:5, 0:3])"
   ]
  }
 ],
 "metadata": {
  "kernelspec": {
   "display_name": "Python 3",
   "language": "python",
   "name": "python3"
  },
  "language_info": {
   "codemirror_mode": {
    "name": "ipython",
    "version": 3
   },
   "file_extension": ".py",
   "mimetype": "text/x-python",
   "name": "python",
   "nbconvert_exporter": "python",
   "pygments_lexer": "ipython3",
   "version": "3.13.2"
  }
 },
 "nbformat": 4,
 "nbformat_minor": 2
}
