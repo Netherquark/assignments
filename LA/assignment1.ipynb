{
 "cells": [
  {
   "cell_type": "code",
   "execution_count": 73,
   "metadata": {},
   "outputs": [],
   "source": [
    "import numpy as np"
   ]
  },
  {
   "cell_type": "markdown",
   "metadata": {},
   "source": [
    "## Question 1: Numpy"
   ]
  },
  {
   "cell_type": "markdown",
   "metadata": {},
   "source": [
    "#### (A) Use arange to create a variable named foo that stores an array of numbers from 0 to 29, inclusive. Print bar and its shape."
   ]
  },
  {
   "cell_type": "code",
   "execution_count": 74,
   "metadata": {},
   "outputs": [
    {
     "name": "stdout",
     "output_type": "stream",
     "text": [
      "Printing type(foo): <class 'numpy.ndarray'>\n",
      "Printing foo: [ 0  1  2  3  4  5  6  7  8  9 10 11 12 13 14 15 16 17 18 19 20 21 22 23\n",
      " 24 25 26 27 28 29]\n",
      "Printing foo shape using .shape: (30,)\n",
      "Printing type(shape): <class 'tuple'>\n"
     ]
    }
   ],
   "source": [
    "foo = np.arange(0,30,1,dtype=int) #foo declaration\n",
    "#(arange is half open, we need to put 30 as upper bound)\n",
    "print(\"Printing type(foo):\", type(foo)) #confirming its a numpy array\n",
    "print(\"Printing foo:\" , foo) #printing 1D array\n",
    "print(\"Printing foo shape using .shape:\", foo.shape) #confirming 1D\n",
    "print(\"Printing type(shape):\", type(foo.shape))"
   ]
  },
  {
   "cell_type": "markdown",
   "metadata": {},
   "source": [
    "\n",
    "#### (B) Use the reshape function to change foo to a validly-shaped two-dimensional matrix and store it in a new variable called bar. Print bar and its shape."
   ]
  },
  {
   "cell_type": "code",
   "execution_count": 75,
   "metadata": {},
   "outputs": [
    {
     "name": "stdout",
     "output_type": "stream",
     "text": [
      "Printing type(bar): <class 'numpy.ndarray'>\n",
      "Printing bar:\n",
      "[[ 0  1  2  3  4  5]\n",
      " [ 6  7  8  9 10 11]\n",
      " [12 13 14 15 16 17]\n",
      " [18 19 20 21 22 23]\n",
      " [24 25 26 27 28 29]]\n",
      "Printing bar shape using .shape: (5, 6)\n",
      "Printing type(shape): <class 'tuple'>\n"
     ]
    }
   ],
   "source": [
    "bar = foo.reshape((5,6)) #creating bar(5x6)(2D) from 1D foo\n",
    "print(\"Printing type(bar):\", type(bar))\n",
    "print(\"Printing bar:\") #confirming reshape worked\n",
    "print(bar) \n",
    "print(\"Printing bar shape using .shape:\", bar.shape) #confirming 5x6\n",
    "print(\"Printing type(shape):\", type(bar.shape))"
   ]
  },
  {
   "cell_type": "markdown",
   "metadata": {},
   "source": [
    "#### (C) Create a third variable, baz that reshapes it into a valid three-dimensional shape. Print baz and its shape."
   ]
  },
  {
   "cell_type": "code",
   "execution_count": 76,
   "metadata": {},
   "outputs": [
    {
     "name": "stdout",
     "output_type": "stream",
     "text": [
      "Printing type(baz): <class 'numpy.ndarray'>\n",
      "Printing baz:\n",
      "[[[ 0  1]\n",
      "  [ 2  3]\n",
      "  [ 4  5]]\n",
      "\n",
      " [[ 6  7]\n",
      "  [ 8  9]\n",
      "  [10 11]]\n",
      "\n",
      " [[12 13]\n",
      "  [14 15]\n",
      "  [16 17]]\n",
      "\n",
      " [[18 19]\n",
      "  [20 21]\n",
      "  [22 23]]\n",
      "\n",
      " [[24 25]\n",
      "  [26 27]\n",
      "  [28 29]]]\n",
      "Printing baz shape using .shape: (5, 3, 2)\n",
      "Printing type(shape): <class 'tuple'>\n"
     ]
    }
   ],
   "source": [
    "baz = bar.reshape((5,3,2)) #creating bar(5x3x2)(3D) from 2D bar\n",
    "print(\"Printing type(baz):\", type(baz))\n",
    "print(\"Printing baz:\") #confirming reshape worked\n",
    "print(baz) \n",
    "print(\"Printing baz shape using .shape:\", baz.shape) #confirming 5x3x2\n",
    "print(\"Printing type(shape):\", type(baz.shape))"
   ]
  },
  {
   "cell_type": "markdown",
   "metadata": {},
   "source": [
    "#### (D) There are several different ways to index into NumPy arrays. Use two-dimensional array indexing to set the first value in the second row of bar to -1. Now look at foo and baz. Did they change? Explain what’s going on. (Hint: does reshape return a view or a copy?)\n"
   ]
  },
  {
   "cell_type": "code",
   "execution_count": 77,
   "metadata": {},
   "outputs": [
    {
     "name": "stdout",
     "output_type": "stream",
     "text": [
      "Printing bar:\n",
      "[[ 0  1  2  3  4  5]\n",
      " [ 6  7  8  9 10 11]\n",
      " [12 13 14 15 16 17]\n",
      " [18 19 20 21 22 23]\n",
      " [24 25 26 27 28 29]]\n",
      "Original value of col 1 row 2: 6\n",
      "Coordinates of col 1 row 2: 1,0\n",
      "Printing updated bar:\n",
      "[[ 0  1  2  3  4  5]\n",
      " [-1  7  8  9 10 11]\n",
      " [12 13 14 15 16 17]\n",
      " [18 19 20 21 22 23]\n",
      " [24 25 26 27 28 29]]\n",
      "Printing foo:\n",
      "[ 0  1  2  3  4  5 -1  7  8  9 10 11 12 13 14 15 16 17 18 19 20 21 22 23\n",
      " 24 25 26 27 28 29]\n",
      "Printing baz:\n",
      "[[[ 0  1]\n",
      "  [ 2  3]\n",
      "  [ 4  5]]\n",
      "\n",
      " [[-1  7]\n",
      "  [ 8  9]\n",
      "  [10 11]]\n",
      "\n",
      " [[12 13]\n",
      "  [14 15]\n",
      "  [16 17]]\n",
      "\n",
      " [[18 19]\n",
      "  [20 21]\n",
      "  [22 23]]\n",
      "\n",
      " [[24 25]\n",
      "  [26 27]\n",
      "  [28 29]]]\n",
      "\n",
      "\n",
      "\n",
      "In conclusion, updating [1,0] in bar was successful. Updating this value changed foo[6] and baz[1,0,0] automatically, which means that reshape returns a view.\n"
     ]
    }
   ],
   "source": [
    "print(\"Printing bar:\")\n",
    "print(bar) \n",
    "print(\"Original value of col 1 row 2:\",bar[1][0])\n",
    "print(\"Coordinates of col 1 row 2: 1,0\")\n",
    "bar[1][0] = -1 #update [1,0] with new value\n",
    "print(\"Printing updated bar:\") #confirming value got updated\n",
    "print(bar) \n",
    "print(\"Printing foo:\") #checking foo\n",
    "print(foo)\n",
    "print(\"Printing baz:\") #checking baz\n",
    "print(baz) \n",
    "print()\n",
    "print()\n",
    "print()\n",
    "print(\"In conclusion, updating [1,0] in bar was successful. Updating this value changed foo[6] and baz[1,0,0] automatically, which means that reshape returns a view.\")"
   ]
  },
  {
   "cell_type": "markdown",
   "metadata": {},
   "source": [
    "#### (E) Another thing that comes up a lot with array shapes is thinking about how to aggregate over specific dimensions. Figure out how the NumPy sum function works (and the axis argument in particular) and do the following:\n",
    "\n",
    "(i) Sum baz over its second dimension and print the result."
   ]
  },
  {
   "cell_type": "code",
   "execution_count": 78,
   "metadata": {},
   "outputs": [
    {
     "name": "stdout",
     "output_type": "stream",
     "text": [
      "[[ 6  9]\n",
      " [17 27]\n",
      " [42 45]\n",
      " [60 63]\n",
      " [78 81]]\n"
     ]
    }
   ],
   "source": [
    "print(np.sum(baz, axis=1)) #2nd dimension is axis 1, counting from 0"
   ]
  },
  {
   "cell_type": "markdown",
   "metadata": {},
   "source": [
    "(ii) Sum baz over its first dimension and print the result."
   ]
  },
  {
   "cell_type": "code",
   "execution_count": 79,
   "metadata": {},
   "outputs": [
    {
     "name": "stdout",
     "output_type": "stream",
     "text": [
      "[[53 65]\n",
      " [70 75]\n",
      " [80 85]]\n"
     ]
    }
   ],
   "source": [
    "print(np.sum(baz, axis=0)) #1st dimension is axis 0"
   ]
  },
  {
   "cell_type": "markdown",
   "metadata": {},
   "source": [
    "(iii) Sum baz over both its first and third dimensions and print the result.\n"
   ]
  },
  {
   "cell_type": "code",
   "execution_count": 80,
   "metadata": {},
   "outputs": [
    {
     "name": "stdout",
     "output_type": "stream",
     "text": [
      "[118 145 165]\n"
     ]
    }
   ],
   "source": [
    "print(np.sum(baz, axis=(0,2))) #passing a tuple to the axis parameter to sum both 1st and 3rd dimension"
   ]
  },
  {
   "cell_type": "markdown",
   "metadata": {},
   "source": [
    "\n",
    "#### (F) Along with shaping and indexing, we also do a lot of slicing, which is where you index with ranges to get subvectors and submatrices. Write code to do the following:\n",
    "\n",
    "(i) Slice out the second row of bar and print it."
   ]
  },
  {
   "cell_type": "code",
   "execution_count": 81,
   "metadata": {},
   "outputs": [
    {
     "data": {
      "text/plain": [
       "array([[ 0,  1,  2,  3,  4,  5],\n",
       "       [-1,  7,  8,  9, 10, 11],\n",
       "       [12, 13, 14, 15, 16, 17],\n",
       "       [18, 19, 20, 21, 22, 23],\n",
       "       [24, 25, 26, 27, 28, 29]])"
      ]
     },
     "execution_count": 81,
     "metadata": {},
     "output_type": "execute_result"
    }
   ],
   "source": [
    "bar #preview original"
   ]
  },
  {
   "cell_type": "code",
   "execution_count": 88,
   "metadata": {},
   "outputs": [
    {
     "data": {
      "text/plain": [
       "array([-1,  7,  8,  9, 10, 11])"
      ]
     },
     "execution_count": 88,
     "metadata": {},
     "output_type": "execute_result"
    }
   ],
   "source": [
    "bar[1] #2nd row"
   ]
  },
  {
   "cell_type": "markdown",
   "metadata": {},
   "source": [
    "(ii) Slice out the last two columns of bar using the -1 notation and print it."
   ]
  },
  {
   "cell_type": "code",
   "execution_count": 101,
   "metadata": {},
   "outputs": [
    {
     "name": "stdout",
     "output_type": "stream",
     "text": [
      "[[ 4  5]\n",
      " [10 11]\n",
      " [16 17]\n",
      " [22 23]\n",
      " [28 29]]\n"
     ]
    }
   ],
   "source": [
    "print(bar[:, -2:]) #negative iterates through from the end"
   ]
  },
  {
   "cell_type": "markdown",
   "metadata": {},
   "source": [
    "(iii) Reshape bar into the right 2×3 submatrix format and print it."
   ]
  },
  {
   "cell_type": "code",
   "execution_count": 106,
   "metadata": {},
   "outputs": [
    {
     "name": "stdout",
     "output_type": "stream",
     "text": [
      "[[18 19 20]\n",
      " [24 25 26]]\n"
     ]
    }
   ],
   "source": [
    "print(bar[3:5, 0:3])"
   ]
  },
  {
   "cell_type": "markdown",
   "metadata": {},
   "source": [
    "## Question 2\n",
    "Imagine that you have an old-fashioned balance scale as shown below.\n",
    "\n",
    "You have five objects of unknown mass m1,m2,m3,m4,m5m1​,m2​,m3​,m4​,m5​. You would like to find the mass of each of these objects using the scale. If you put one or more of the objects on each side of the scale, you will be able to measure the difference in weight. This scale does not work, however, if one side is left empty."
   ]
  },
  {
   "cell_type": "markdown",
   "metadata": {},
   "source": [
    "(A) You make a measurement of objects {1,2}{1,2} against objects {3,4}{3,4} and get a difference of 1kg. Write this as a linear equation for the masses."
   ]
  },
  {
   "cell_type": "markdown",
   "metadata": {},
   "source": [
    "**_Answer:_**\n",
    "\n",
    "(m₁ + m₂) − (m₃ + m₄) = 1"
   ]
  },
  {
   "cell_type": "markdown",
   "metadata": {},
   "source": [
    "(B) What is the minimum number of such measurements necessary to recover all five masses?"
   ]
  },
  {
   "cell_type": "markdown",
   "metadata": {},
   "source": [
    "**_Answer:_**\n",
    "\n",
    "This is a system of linear equations.\n",
    "\n",
    "This system has 5 variables (m₁ to m₅). Therefore 5 unique measurements will provide 5 equations similar to the one listed in (A). \n",
    "\n",
    "These equations can be solved together to provide the values."
   ]
  },
  {
   "cell_type": "markdown",
   "metadata": {},
   "source": [
    "(C) If the answer to the above question is NN, come up with N−1N−1 measurements that, when combined with the answer to (A) above, would make it possible to recover the masses."
   ]
  },
  {
   "cell_type": "markdown",
   "metadata": {},
   "source": [
    "**_Answer:_**\n",
    "\n",
    "**Given:** (m₁ + m₂) − (m₃ + m₄) = 1\n",
    "\n",
    "Additional required equations:\n",
    "1. (m₁ + m₃) - (m₂ + m₅) = a\n",
    "\n",
    "2. (m₂ + m₄) - (m₃ + m₅) = b\n",
    "\n",
    "3. (m₁ + m₄) - (m₂ + m₃) = c\n",
    "\n",
    "4. (m₁ + m₅) - (m₃ + m₄) = d"
   ]
  },
  {
   "cell_type": "markdown",
   "metadata": {},
   "source": [
    "\n",
    "(D) What would AA and bb be in the matrix form of the linear system corresponding to the NN measurements?\n",
    "That is, if you were to set this up as Am=bAm=b where mm is the vector of unknown masses. Denote the result of the ii-th measurement as bibi​. (Typeset these using the bmatrix environment.)"
   ]
  },
  {
   "cell_type": "markdown",
   "metadata": {},
   "source": [
    "**_Answer:_**\n",
    "\n",
    "Am=b\n",
    "\n",
    "Based on the coefficients in the 5 linear equations, we can derive A to be:\n",
    "\n",
    "$$\n",
    "\\begin{array}{c|ccccc}\n",
    "   & m_1 & m_2 & m_3 & m_4 & m_5  \\\\\n",
    "\\hline\n",
    "\\text{Eqn 1} & 1  & 1  & -1  & -1  & 0  \\\\\n",
    "\\text{Eqn 2} & 1  & 0  & 1  & 0  & -1  \\\\\n",
    "\\text{Eqn 3} & 0  & 1  & -1  & 1  & -1  \\\\\n",
    "\\text{Eqn 4} & 1  & -1  & -1  & 1  & 0  \\\\\n",
    "\\text{Eqn 5} & 1  & 0  & -1  & -1  & 1  \n",
    "\\end{array}\n",
    "$$\n",
    "\n",
    "\n",
    "Similarly,  \n",
    "\n",
    "$$\n",
    "m =\n",
    "\\begin{bmatrix}\n",
    "m_1 \\\\\n",
    "m_2 \\\\\n",
    "m_3 \\\\\n",
    "m_4 \\\\\n",
    "m_5\n",
    "\\end{bmatrix}\n",
    "$$   \n",
    "\n",
    "$$\n",
    "B =\n",
    "\\begin{bmatrix}\n",
    "1 \\\\\n",
    "a \\\\\n",
    "b \\\\\n",
    "c \\\\\n",
    "d\n",
    "\\end{bmatrix}\n",
    "$$  \n",
    "\n",
    "\n",
    "Thus the final equation is:\n",
    "\n",
    "\n"
   ]
  },
  {
   "cell_type": "markdown",
   "metadata": {},
   "source": [
    "$$\n",
    "\\begin{bmatrix}\n",
    "1  & 1  & -1  & -1  & 0  \\\\\n",
    "1  & 0  & 1  & 0  & -1  \\\\\n",
    "0  & 1  & -1  & 1  & -1  \\\\\n",
    "1  & -1  & -1  & 1  & 0  \\\\\n",
    "1  & 0  & -1  & -1  & 1  \n",
    "\\end{bmatrix}\n",
    "\\begin{bmatrix}\n",
    "m_1 \\\\\n",
    "m_2 \\\\\n",
    "m_3 \\\\\n",
    "m_4 \\\\\n",
    "m_5\n",
    "\\end{bmatrix}\n",
    "=\n",
    "\\begin{bmatrix}\n",
    "1 \\\\\n",
    "a \\\\\n",
    "b \\\\\n",
    "c \\\\\n",
    "d\n",
    "\\end{bmatrix}\n",
    "$$\n",
    "\n",
    "This linear system can be solved to determine the unknown masses."
   ]
  },
  {
   "cell_type": "markdown",
   "metadata": {},
   "source": [
    "## Question 3\n",
    "Fairly often in machine learning and other disciplines that use linear algebra to formalize computational problems, you see explicit matrix inverses like A−1bA−1b in papers and books. Of course, you learn in linear algebra classes how to perform such an inverse, and in the NumPy linear algebra library you’ll see a function that will compute the inverse. It seems sensible right? And it’s right there on the page: Invert the matrix A and then multiply by the vector b. How hard can it be?\n",
    "\n",
    "Well… don’t do that. When you see A−1bA−1b you should read that as “the x that is the result of solving the linear system Ax=bAx=b”. You should use something like the solve function in the NumPy linear algebra package. If you have to solve multiple such systems with the same matrix, you might think about performing an LU decomposition, a topic we’ll return to in a couple of weeks.\n",
    "\n",
    "The issue is one of numerical stability, which boils down to the fact that 1) floating point numbers on computers don’t have infinite precision, and 2) some quantities (e.g., infinite sums or numerical integrals) require us to truncate and approximate if we want the computation to complete. These issues are deep and this course won’t delve into them significantly. However, the “explicit inverse” issue is worth looking at just to see an example.\n",
    "(A)\n",
    "\n",
    "A Vandermonde matrix is a matrix generated from a vector in which each column of the matrix is an integer power starting from zero. So, if I have a column vector [x1,x2,...,xN]T[x1​,x2​,...,xN​]T, then the associated (square) Vandermonde matrix would be\n",
    "V=[1x1x12x13…x1N−11x2x22x23…x2N−1⋮⋮⋮⋮…⋮1xNxN2xN3…xNN−1]\n",
    "V=\n",
    "​11⋮1​x1​x2​⋮xN​​x12​x22​⋮xN2​​x13​x23​⋮xN3​​…………​x1N−1​x2N−1​⋮xNN−1​​\n",
    "​\n",
    "\n",
    "Use what you learned about broadcasting in the previous problem to write a function that will produce a Vandermonde matrix for a vector [1,2,...,N]T[1,2,...,N]T for any NN. Do it without using a loop. Here’s a stub to get you started:\n",
    "\n",
    "def vandermonde(N):\n",
    "    vec = np.arange(N) + 1\n",
    "    # Finish me.\n",
    "\n",
    "Use your function for N=12N=12, store it in variable vander, and print the result.\n",
    "(B)\n",
    "\n",
    "Now, let’s make a pretend linear system problem with this matrix. Create a vector of all ones, of length 12 and call it x. Perform a matrix-vector multiplication of vander with the vector you just created and store that in a new vector and call it b. Print the vector b.\n",
    "(C)\n",
    "\n",
    "First, solve the linear system the naïve way, pretending like you don’t know xx. Import numpy.linalg, invert VV and multiply it by bb. Print out your result. What should you get for your answer? If the answer is different than what you expected, write some code to print out that difference.\n",
    "(D)\n",
    "\n",
    "Now solve the linear system using solve. Print out the result. Does it seem more or less in line with what you’d expect?"
   ]
  }
 ],
 "metadata": {
  "kernelspec": {
   "display_name": "Python 3",
   "language": "python",
   "name": "python3"
  },
  "language_info": {
   "codemirror_mode": {
    "name": "ipython",
    "version": 3
   },
   "file_extension": ".py",
   "mimetype": "text/x-python",
   "name": "python",
   "nbconvert_exporter": "python",
   "pygments_lexer": "ipython3",
   "version": "3.13.2"
  }
 },
 "nbformat": 4,
 "nbformat_minor": 2
}
